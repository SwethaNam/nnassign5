{
  "nbformat": 4,
  "nbformat_minor": 0,
  "metadata": {
    "colab": {
      "provenance": [],
      "gpuType": "T4"
    },
    "kernelspec": {
      "name": "python3",
      "display_name": "Python 3"
    },
    "language_info": {
      "name": "python"
    },
    "accelerator": "TPU"
  },
  "cells": [
    {
      "cell_type": "code",
      "execution_count": 1,
      "metadata": {
        "id": "FkY09SJUD10f"
      },
      "outputs": [],
      "source": [
        "import pandas as pd\n",
        "import numpy as np\n",
        "import matplotlib.pyplot as plt\n",
        "import re\n",
        "from sklearn.model_selection import train_test_split\n",
        "from sklearn.preprocessing import LabelEncoder\n",
        "from keras.preprocessing.text import Tokenizer\n",
        "from tensorflow.keras.preprocessing.sequence import pad_sequences\n",
        "from keras.models import Sequential\n",
        "from keras.layers import Dense, Embedding, LSTM, SpatialDropout1D\n",
        "from keras.utils.np_utils import to_categorical"
      ]
    },
    {
      "cell_type": "code",
      "source": [
        "from google.colab import drive\n",
        "drive.mount('/content/gdrive')\n",
        "path_to_csv = '/content/gdrive/My Drive/Sentiment.csv'\n"
      ],
      "metadata": {
        "colab": {
          "base_uri": "https://localhost:8080/"
        },
        "id": "Ye_Zj6vvEmkF",
        "outputId": "f801671c-d51c-41b1-db44-71753a5fd835"
      },
      "execution_count": 3,
      "outputs": [
        {
          "output_type": "stream",
          "name": "stdout",
          "text": [
            "Mounted at /content/gdrive\n"
          ]
        }
      ]
    },
    {
      "cell_type": "code",
      "source": [
        "import pandas as pd\n",
        "dset = pd.read_csv(path_to_csv, header=0)\n",
        "mask = dset.columns.isin(['text', 'sentiment'])\n",
        "data = dset.loc[:, mask]\n",
        "data['text'] = data['text'].apply(lambda x: x.lower())                              # Keeping only the necessary columns\n",
        "data['text'] = data['text'].apply((lambda x: re.sub('[^a-zA-z0-9\\s]', '', x)))"
      ],
      "metadata": {
        "colab": {
          "base_uri": "https://localhost:8080/"
        },
        "id": "TF1DpS9XFaIN",
        "outputId": "b85acd85-0c9d-482c-a7a7-afbb2f0603c9"
      },
      "execution_count": 4,
      "outputs": [
        {
          "output_type": "stream",
          "name": "stderr",
          "text": [
            "<ipython-input-4-426e98980e14>:5: SettingWithCopyWarning: \n",
            "A value is trying to be set on a copy of a slice from a DataFrame.\n",
            "Try using .loc[row_indexer,col_indexer] = value instead\n",
            "\n",
            "See the caveats in the documentation: https://pandas.pydata.org/pandas-docs/stable/user_guide/indexing.html#returning-a-view-versus-a-copy\n",
            "  data['text'] = data['text'].apply(lambda x: x.lower())                              # Keeping only the necessary columns\n",
            "<ipython-input-4-426e98980e14>:6: SettingWithCopyWarning: \n",
            "A value is trying to be set on a copy of a slice from a DataFrame.\n",
            "Try using .loc[row_indexer,col_indexer] = value instead\n",
            "\n",
            "See the caveats in the documentation: https://pandas.pydata.org/pandas-docs/stable/user_guide/indexing.html#returning-a-view-versus-a-copy\n",
            "  data['text'] = data['text'].apply((lambda x: re.sub('[^a-zA-z0-9\\s]', '', x)))\n"
          ]
        }
      ]
    },
    {
      "cell_type": "code",
      "source": [
        "for idx, row in data.iterrows():\n",
        "    row[0] = row[0].replace('rt', ' ')\n",
        "max_fatures = 2000\n",
        "tokenizer = Tokenizer(num_words=max_fatures, split=' ')\n",
        "tokenizer.fit_on_texts(data['text'].values)\n",
        "X = tokenizer.texts_to_sequences(data['text'].values)\n",
        "\n",
        "X = pad_sequences(X) #Padding the feature matrix\n",
        "\n",
        "embed_dim = 128\n",
        "lstm_out = 196\n",
        "def createmodel():\n",
        "    model = Sequential() #Sequential Neural Network\n",
        "    model.add(Embedding(max_fatures, embed_dim,input_length = X.shape[1]))     #input dimension 2000 Neurons, output dimension 128 Neurons\n",
        "    model.add(LSTM(lstm_out, dropout=0.2, recurrent_dropout=0.2))\n",
        "    model.add(Dense(3,activation='softmax'))\n",
        "    model.compile(loss = 'categorical_crossentropy', optimizer='adam',metrics = ['accuracy']) #Compiling the model\n",
        "    return model\n",
        "# print(model.summary())"
      ],
      "metadata": {
        "id": "n7JfulIaGOHG"
      },
      "execution_count": 5,
      "outputs": []
    },
    {
      "cell_type": "code",
      "source": [
        "label_encoder = LabelEncoder() #Applying label Encoding on the label matrix\n",
        "integer_encoded = label_encoder.fit_transform(data['sentiment']) #fitting the model\n",
        "y = to_categorical(integer_encoded)\n",
        "X_train, X_test, Y_train, Y_test = train_test_split(X,y, test_size = 0.33, random_state = 42)\n",
        "\n",
        "batch_size = 32\n",
        "model = createmodel()                                                #Function call to Sequential Neural Network\n",
        "model.fit(X_train, Y_train, epochs = 1, batch_size=batch_size, verbose = 2)\n",
        "score,acc = model.evaluate(X_test,Y_test,verbose=2,batch_size=batch_size)         #evaluating the model\n",
        "print(score)\n",
        "print(acc)"
      ],
      "metadata": {
        "colab": {
          "base_uri": "https://localhost:8080/"
        },
        "id": "bG36FlI8HKhr",
        "outputId": "e4be9322-1572-4167-b002-629fb8304673"
      },
      "execution_count": 6,
      "outputs": [
        {
          "output_type": "stream",
          "name": "stdout",
          "text": [
            "291/291 - 61s - loss: 0.8245 - accuracy: 0.6424 - 61s/epoch - 210ms/step\n",
            "144/144 - 3s - loss: 0.7612 - accuracy: 0.6769 - 3s/epoch - 23ms/step\n",
            "0.7611876726150513\n",
            "0.6769331693649292\n"
          ]
        }
      ]
    },
    {
      "cell_type": "code",
      "source": [
        "print(model.metrics_names)\n",
        ""
      ],
      "metadata": {
        "colab": {
          "base_uri": "https://localhost:8080/"
        },
        "id": "yF31hJADHo8V",
        "outputId": "6eff85d3-9643-4bde-9d13-0244c1958868"
      },
      "execution_count": 7,
      "outputs": [
        {
          "output_type": "stream",
          "name": "stdout",
          "text": [
            "['loss', 'accuracy']\n"
          ]
        }
      ]
    },
    {
      "cell_type": "code",
      "source": [
        "#question 1:\n",
        "model.save('sentimentAnalysis.h5') #Saving the model\n",
        ""
      ],
      "metadata": {
        "id": "7Y3PvgX4HvOa"
      },
      "execution_count": 8,
      "outputs": []
    },
    {
      "cell_type": "code",
      "source": [
        "from keras.models import load_model\n",
        "model= load_model('sentimentAnalysis.h5')                #loading the saved model\n",
        "print(integer_encoded)\n",
        "print(data['sentiment'])"
      ],
      "metadata": {
        "colab": {
          "base_uri": "https://localhost:8080/"
        },
        "id": "jp1hwH_bH3ao",
        "outputId": "5f3d2c66-5d21-4bc7-eadc-dde6a59e73ba"
      },
      "execution_count": 9,
      "outputs": [
        {
          "output_type": "stream",
          "name": "stdout",
          "text": [
            "[1 2 1 ... 2 0 2]\n",
            "0         Neutral\n",
            "1        Positive\n",
            "2         Neutral\n",
            "3        Positive\n",
            "4        Positive\n",
            "           ...   \n",
            "13866    Negative\n",
            "13867    Positive\n",
            "13868    Positive\n",
            "13869    Negative\n",
            "13870    Positive\n",
            "Name: sentiment, Length: 13871, dtype: object\n"
          ]
        }
      ]
    },
    {
      "cell_type": "code",
      "source": [
        "# Predicting on the text data\n",
        "sentence = ['A lot of good things are happening. We are respected again throughout the world, and that is a great thing.@realDonaldTrump']\n",
        "sentence = tokenizer.texts_to_sequences(sentence)\n",
        "sentence = pad_sequences(sentence, maxlen=28, dtype='int32', value=0)\n",
        "sentiment_probs = model.predict(sentence, batch_size=1, verbose=2)[0]\n",
        "sentiment = np.argmax(sentiment_probs)\n",
        "\n",
        "print(sentiment_probs)\n",
        "if sentiment == 0:\n",
        "    print(\"Neutral\")\n",
        "elif sentiment < 0:\n",
        "    print(\"Negative\")\n",
        "elif sentiment > 0:\n",
        "    print(\"Positive\")\n",
        "else:\n",
        "    print(\"Cannot be determined\")\n"
      ],
      "metadata": {
        "colab": {
          "base_uri": "https://localhost:8080/"
        },
        "id": "Q3fHj-yaIBnj",
        "outputId": "948f0f68-06fa-4aed-f735-56ed94d293a9"
      },
      "execution_count": 10,
      "outputs": [
        {
          "output_type": "stream",
          "name": "stdout",
          "text": [
            "1/1 - 0s - 324ms/epoch - 324ms/step\n",
            "[0.40014437 0.10924453 0.4906111 ]\n",
            "Positive\n"
          ]
        }
      ]
    },
    {
      "cell_type": "code",
      "source": [
        "from keras.wrappers.scikit_learn import KerasClassifier\n",
        "from sklearn.model_selection import GridSearchCV\n",
        "model = KerasClassifier(build_fn=createmodel,verbose=2)\n",
        "batch_size= [10, 20, 40]\n",
        "epochs = [1, 2]\n",
        "param_grid= {'batch_size':batch_size, 'epochs':epochs} #creating dictionary for batch size, no. of epochs\n",
        "grid  = GridSearchCV(estimator=model, param_grid=param_grid) #Applying dictionary with\n",
        "grid_result= grid.fit(X_train,Y_train) #Fitting the model\n",
        "\n",
        "print(\"Best: %f using %s\" % (grid_result.best_score_, grid_result.best_params_)) #best score, best hyper parameters"
      ],
      "metadata": {
        "colab": {
          "base_uri": "https://localhost:8080/"
        },
        "id": "PJY6ZfuJM2o_",
        "outputId": "7a282b36-45ca-482b-b850-aafd31e5dc62"
      },
      "execution_count": 11,
      "outputs": [
        {
          "metadata": {
            "tags": null
          },
          "name": "stderr",
          "output_type": "stream",
          "text": [
            "<ipython-input-11-6c99b49150f4>:4: DeprecationWarning: KerasClassifier is deprecated, use Sci-Keras (https://github.com/adriangb/scikeras) instead. See https://www.adriangb.com/scikeras/stable/migration.html for help migrating.\n",
            "  model = KerasClassifier(build_fn=createmodel,verbose=2) #initiating model to test performance by applying multiple hyper parameters\n"
          ]
        },
        {
          "output_type": "stream",
          "name": "stdout",
          "text": [
            "744/744 - 118s - loss: 0.8166 - accuracy: 0.6528 - 118s/epoch - 159ms/step\n",
            "186/186 - 3s - loss: 0.7420 - accuracy: 0.6832 - 3s/epoch - 15ms/step\n",
            "744/744 - 117s - loss: 0.8239 - accuracy: 0.6473 - 117s/epoch - 157ms/step\n",
            "186/186 - 7s - loss: 0.7588 - accuracy: 0.6783 - 7s/epoch - 37ms/step\n",
            "744/744 - 118s - loss: 0.8230 - accuracy: 0.6446 - 118s/epoch - 158ms/step\n",
            "186/186 - 3s - loss: 0.7524 - accuracy: 0.6794 - 3s/epoch - 15ms/step\n",
            "744/744 - 118s - loss: 0.8264 - accuracy: 0.6447 - 118s/epoch - 159ms/step\n",
            "186/186 - 5s - loss: 0.7491 - accuracy: 0.6825 - 5s/epoch - 27ms/step\n",
            "744/744 - 118s - loss: 0.8164 - accuracy: 0.6514 - 118s/epoch - 159ms/step\n",
            "186/186 - 3s - loss: 0.7746 - accuracy: 0.6679 - 3s/epoch - 15ms/step\n",
            "Epoch 1/2\n",
            "744/744 - 119s - loss: 0.8276 - accuracy: 0.6496 - 119s/epoch - 160ms/step\n",
            "Epoch 2/2\n",
            "744/744 - 118s - loss: 0.6815 - accuracy: 0.7135 - 118s/epoch - 158ms/step\n",
            "186/186 - 3s - loss: 0.7354 - accuracy: 0.6762 - 3s/epoch - 16ms/step\n",
            "Epoch 1/2\n",
            "744/744 - 117s - loss: 0.8206 - accuracy: 0.6494 - 117s/epoch - 157ms/step\n",
            "Epoch 2/2\n",
            "744/744 - 111s - loss: 0.6860 - accuracy: 0.7129 - 111s/epoch - 150ms/step\n",
            "186/186 - 3s - loss: 0.7356 - accuracy: 0.6912 - 3s/epoch - 16ms/step\n",
            "Epoch 1/2\n",
            "744/744 - 117s - loss: 0.8245 - accuracy: 0.6414 - 117s/epoch - 158ms/step\n",
            "Epoch 2/2\n",
            "744/744 - 111s - loss: 0.6712 - accuracy: 0.7162 - 111s/epoch - 149ms/step\n",
            "186/186 - 3s - loss: 0.7567 - accuracy: 0.6815 - 3s/epoch - 16ms/step\n",
            "Epoch 1/2\n",
            "744/744 - 121s - loss: 0.8253 - accuracy: 0.6424 - 121s/epoch - 163ms/step\n",
            "Epoch 2/2\n",
            "744/744 - 118s - loss: 0.6721 - accuracy: 0.7124 - 118s/epoch - 159ms/step\n",
            "186/186 - 3s - loss: 0.7622 - accuracy: 0.6712 - 3s/epoch - 16ms/step\n",
            "Epoch 1/2\n",
            "744/744 - 118s - loss: 0.8242 - accuracy: 0.6460 - 118s/epoch - 158ms/step\n",
            "Epoch 2/2\n",
            "744/744 - 112s - loss: 0.6674 - accuracy: 0.7153 - 112s/epoch - 151ms/step\n",
            "186/186 - 3s - loss: 0.7711 - accuracy: 0.6787 - 3s/epoch - 17ms/step\n",
            "372/372 - 65s - loss: 0.8279 - accuracy: 0.6435 - 65s/epoch - 175ms/step\n",
            "93/93 - 2s - loss: 0.7800 - accuracy: 0.6487 - 2s/epoch - 21ms/step\n",
            "372/372 - 72s - loss: 0.8299 - accuracy: 0.6443 - 72s/epoch - 193ms/step\n",
            "93/93 - 2s - loss: 0.7668 - accuracy: 0.6686 - 2s/epoch - 23ms/step\n",
            "372/372 - 67s - loss: 0.8293 - accuracy: 0.6433 - 67s/epoch - 180ms/step\n",
            "93/93 - 4s - loss: 0.7748 - accuracy: 0.6756 - 4s/epoch - 38ms/step\n",
            "372/372 - 65s - loss: 0.8312 - accuracy: 0.6432 - 65s/epoch - 176ms/step\n",
            "93/93 - 2s - loss: 0.7525 - accuracy: 0.6690 - 2s/epoch - 20ms/step\n",
            "372/372 - 64s - loss: 0.8291 - accuracy: 0.6467 - 64s/epoch - 172ms/step\n",
            "93/93 - 2s - loss: 0.7656 - accuracy: 0.6749 - 2s/epoch - 20ms/step\n",
            "Epoch 1/2\n",
            "372/372 - 69s - loss: 0.8280 - accuracy: 0.6441 - 69s/epoch - 185ms/step\n",
            "Epoch 2/2\n",
            "372/372 - 66s - loss: 0.6841 - accuracy: 0.7100 - 66s/epoch - 178ms/step\n",
            "93/93 - 2s - loss: 0.7272 - accuracy: 0.6810 - 2s/epoch - 23ms/step\n",
            "Epoch 1/2\n",
            "372/372 - 66s - loss: 0.8258 - accuracy: 0.6390 - 66s/epoch - 177ms/step\n",
            "Epoch 2/2\n",
            "372/372 - 62s - loss: 0.6827 - accuracy: 0.7097 - 62s/epoch - 168ms/step\n",
            "93/93 - 3s - loss: 0.7318 - accuracy: 0.6783 - 3s/epoch - 35ms/step\n",
            "Epoch 1/2\n",
            "372/372 - 65s - loss: 0.8365 - accuracy: 0.6403 - 65s/epoch - 175ms/step\n",
            "Epoch 2/2\n",
            "372/372 - 62s - loss: 0.6765 - accuracy: 0.7147 - 62s/epoch - 168ms/step\n",
            "93/93 - 3s - loss: 0.7480 - accuracy: 0.6918 - 3s/epoch - 35ms/step\n",
            "Epoch 1/2\n",
            "372/372 - 70s - loss: 0.8342 - accuracy: 0.6437 - 70s/epoch - 187ms/step\n",
            "Epoch 2/2\n",
            "372/372 - 68s - loss: 0.6697 - accuracy: 0.7166 - 68s/epoch - 182ms/step\n",
            "93/93 - 2s - loss: 0.7546 - accuracy: 0.6620 - 2s/epoch - 25ms/step\n",
            "Epoch 1/2\n",
            "372/372 - 68s - loss: 0.8312 - accuracy: 0.6443 - 68s/epoch - 184ms/step\n",
            "Epoch 2/2\n",
            "372/372 - 64s - loss: 0.6711 - accuracy: 0.7099 - 64s/epoch - 172ms/step\n",
            "93/93 - 2s - loss: 0.8009 - accuracy: 0.6362 - 2s/epoch - 22ms/step\n",
            "186/186 - 43s - loss: 0.8446 - accuracy: 0.6381 - 43s/epoch - 233ms/step\n",
            "47/47 - 1s - loss: 0.7671 - accuracy: 0.6482 - 1s/epoch - 30ms/step\n",
            "186/186 - 45s - loss: 0.8370 - accuracy: 0.6379 - 45s/epoch - 243ms/step\n",
            "47/47 - 2s - loss: 0.7909 - accuracy: 0.6697 - 2s/epoch - 33ms/step\n",
            "186/186 - 44s - loss: 0.8521 - accuracy: 0.6313 - 44s/epoch - 235ms/step\n",
            "47/47 - 2s - loss: 0.7621 - accuracy: 0.6918 - 2s/epoch - 33ms/step\n",
            "186/186 - 42s - loss: 0.8505 - accuracy: 0.6354 - 42s/epoch - 228ms/step\n",
            "47/47 - 1s - loss: 0.7676 - accuracy: 0.6717 - 1s/epoch - 30ms/step\n",
            "186/186 - 45s - loss: 0.8420 - accuracy: 0.6378 - 45s/epoch - 241ms/step\n",
            "47/47 - 1s - loss: 0.7719 - accuracy: 0.6636 - 1s/epoch - 32ms/step\n",
            "Epoch 1/2\n",
            "186/186 - 43s - loss: 0.8458 - accuracy: 0.6425 - 43s/epoch - 232ms/step\n",
            "Epoch 2/2\n",
            "186/186 - 42s - loss: 0.6913 - accuracy: 0.7029 - 42s/epoch - 224ms/step\n",
            "47/47 - 2s - loss: 0.7334 - accuracy: 0.6783 - 2s/epoch - 32ms/step\n",
            "Epoch 1/2\n",
            "186/186 - 43s - loss: 0.8412 - accuracy: 0.6384 - 43s/epoch - 232ms/step\n",
            "Epoch 2/2\n",
            "186/186 - 38s - loss: 0.6987 - accuracy: 0.7047 - 38s/epoch - 205ms/step\n",
            "47/47 - 2s - loss: 0.7359 - accuracy: 0.6756 - 2s/epoch - 44ms/step\n",
            "Epoch 1/2\n",
            "186/186 - 44s - loss: 0.8503 - accuracy: 0.6340 - 44s/epoch - 236ms/step\n",
            "Epoch 2/2\n",
            "186/186 - 42s - loss: 0.6878 - accuracy: 0.7057 - 42s/epoch - 224ms/step\n",
            "47/47 - 2s - loss: 0.7525 - accuracy: 0.6789 - 2s/epoch - 33ms/step\n",
            "Epoch 1/2\n",
            "186/186 - 45s - loss: 0.8436 - accuracy: 0.6373 - 45s/epoch - 242ms/step\n",
            "Epoch 2/2\n",
            "186/186 - 42s - loss: 0.6903 - accuracy: 0.7044 - 42s/epoch - 226ms/step\n",
            "47/47 - 3s - loss: 0.7339 - accuracy: 0.6808 - 3s/epoch - 53ms/step\n",
            "Epoch 1/2\n",
            "186/186 - 41s - loss: 0.8470 - accuracy: 0.6374 - 41s/epoch - 222ms/step\n",
            "Epoch 2/2\n",
            "186/186 - 41s - loss: 0.6861 - accuracy: 0.7053 - 41s/epoch - 220ms/step\n",
            "47/47 - 1s - loss: 0.7870 - accuracy: 0.6749 - 1s/epoch - 31ms/step\n",
            "Epoch 1/2\n",
            "930/930 - 154s - loss: 0.8103 - accuracy: 0.6552 - 154s/epoch - 165ms/step\n",
            "Epoch 2/2\n",
            "930/930 - 150s - loss: 0.6683 - accuracy: 0.7156 - 150s/epoch - 162ms/step\n",
            "Best: 0.679758 using {'batch_size': 10, 'epochs': 2}\n"
          ]
        }
      ]
    }
  ]
}